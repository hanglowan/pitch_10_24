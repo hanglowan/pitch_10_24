{
 "cells": [
  {
   "cell_type": "code",
   "execution_count": null,
   "metadata": {},
   "outputs": [],
   "source": []
  },
  {
   "cell_type": "code",
   "execution_count": 13,
   "metadata": {},
   "outputs": [],
   "source": [
    "def generate_stock(volatility, iterations):\n",
    "    prices = [100];\n",
    "    for i in range(1, iterations):\n",
    "        rnd = random.random() # generate number, 0 <= x < 1.0\n",
    "        change_percent = 2 * volatility * rnd\n",
    "        if (change_percent > volatility): # todo why..?\n",
    "            change_percent -= (2 * volatility)\n",
    "        prices.append(prices[i-1] * (1 + change_percent))\n",
    "    return prices"
   ]
  },
  {
   "cell_type": "code",
   "execution_count": 14,
   "metadata": {},
   "outputs": [],
   "source": [
    "price = generate_stock(0.2, 1000)\n",
    "times = np.arange(1000)\n",
    "\n",
    "df = pd.DataFrame({'time': times, 'price': price})\n",
    "display(df.head())\n",
    "\n",
    "df.plot(x=\"time\", y=\"price\")\n",
    "\n",
    "df.show()"
   ]
  }
 ],
 "metadata": {
  "kernelspec": {
   "display_name": "dash",
   "language": "python",
   "name": "python3"
  },
  "language_info": {
   "codemirror_mode": {
    "name": "ipython",
    "version": 3
   },
   "file_extension": ".py",
   "mimetype": "text/x-python",
   "name": "python",
   "nbconvert_exporter": "python",
   "pygments_lexer": "ipython3",
   "version": "3.11.4"
  }
 },
 "nbformat": 4,
 "nbformat_minor": 4
}
